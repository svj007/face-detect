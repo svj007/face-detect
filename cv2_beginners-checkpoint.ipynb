{
 "cells": [
  {
   "cell_type": "code",
   "execution_count": 2,
   "metadata": {},
   "outputs": [],
   "source": [
    "import cv2\n",
    "import numpy as np"
   ]
  },
  {
   "cell_type": "code",
   "execution_count": 3,
   "metadata": {},
   "outputs": [],
   "source": [
    "# 1)will capture video(VideoCapture(default=0)) via a loop, store the feed as pictures into 'frame', convert frame \n",
    "#   to gray(cvtColor...BGR2GRAY), \n",
    "#   show output in four different frames and quit it all when 'q' is pressed"
   ]
  },
  {
   "cell_type": "code",
   "execution_count": 8,
   "metadata": {},
   "outputs": [],
   "source": [
    "cap=cv2.VideoCapture(0)\n",
    "# an infinte while loop to capture continous video\n",
    "while True:\n",
    "    ret, frame = cap.read()\n",
    "    \n",
    "    gray=cv2.cvtColor(frame, cv2.COLOR_BGR2GRAY)\n",
    "    cv2.imshow('gray',gray)\n",
    "    cv2.imshow('frame2',frame)\n",
    "    cv2.imshow('frame3',frame)\n",
    "    cv2.imshow('frame4',frame)\n",
    "    if cv2.waitKey(20) & 0xFF == ord('q'):\n",
    "        break"
   ]
  },
  {
   "cell_type": "code",
   "execution_count": null,
   "metadata": {},
   "outputs": [],
   "source": [
    "# 2) two haarcascades are downloaded via gitrepository which automatically identifies eyes and frontal face features,\n",
    "#    results are stored into 'eye_cascade' and 'face_cascade',\n",
    "#    video captured into cap, detect faces, draw rectangle around frontal face features in for loop no.1, draw rectangle around\n",
    "#    eyes in loop 2, show live feed(dynamically stored in 'img') via imshow() "
   ]
  },
  {
   "cell_type": "code",
   "execution_count": 3,
   "metadata": {},
   "outputs": [],
   "source": [
    "eye_cascade=cv2.CascadeClassifier('C:/Users/Admin/Desktop/ML/HaarCascades/haarcascade_eye.xml')\n",
    "face_cascade=cv2.CascadeClassifier('C:/Users/Admin/Desktop/ML/HaarCascades/haarcascade_frontalface_alt.xml')\n",
    "cap=cv2.VideoCapture(0)\n",
    "\n",
    "while True:\n",
    "    ret, img=cap.read()\n",
    "    gray=cv2.cvtColor(img, cv2.COLOR_BGR2GRAY)\n",
    "    faces=face_cascade.detectMultiScale(gray,1.3,5)\n",
    "    for(x,y,w,h) in faces:\n",
    "        cv2.rectangle(img,(x,y),(x+w,y+h),(255,0,0),2)\n",
    "        roi_gray=gray[y:y+h, x:x+w]\n",
    "        roi_color=img[y:y+h, x:x+w]\n",
    "        eyes= eye_cascade.detectMultiScale(roi_gray)\n",
    "        for(ex,ey,ew,eh) in eyes:\n",
    "            cv2.rectangle(roi_color, (ex,ey), (ex+ew,ey+eh), (0,255,0), 2)\n",
    "    \n",
    "    cv2.imshow('img',img)\n",
    "    if cv2.waitKey(30) & 0xff == ord('q'):\n",
    "        break\n",
    "\n",
    "cap.release()\n",
    "cv2.destroyAllWindows()  "
   ]
  },
  {
   "cell_type": "code",
   "execution_count": null,
   "metadata": {},
   "outputs": [],
   "source": []
  }
 ],
 "metadata": {
  "kernelspec": {
   "display_name": "Python 3",
   "language": "python",
   "name": "python3"
  },
  "language_info": {
   "codemirror_mode": {
    "name": "ipython",
    "version": 3
   },
   "file_extension": ".py",
   "mimetype": "text/x-python",
   "name": "python",
   "nbconvert_exporter": "python",
   "pygments_lexer": "ipython3",
   "version": "3.7.1"
  }
 },
 "nbformat": 4,
 "nbformat_minor": 2
}
